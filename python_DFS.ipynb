{
  "metadata": {
    "kernelspec": {
      "name": "python",
      "display_name": "Python (Pyodide)",
      "language": "python"
    },
    "language_info": {
      "codemirror_mode": {
        "name": "python",
        "version": 3
      },
      "file_extension": ".py",
      "mimetype": "text/x-python",
      "name": "python",
      "nbconvert_exporter": "python",
      "pygments_lexer": "ipython3",
      "version": "3.8"
    }
  },
  "nbformat_minor": 4,
  "nbformat": 4,
  "cells": [
    {
      "cell_type": "code",
      "source": "#This code defines the structure of the binary tree but doesn't specify how the nodes should be visited (traversed).\n#The tree structure is built by connecting the nodes, but the order of visiting nodes (whether it's Pre-order, In-order, or Post-order) \n\nclass Node :\n    def __init__(self, data) :\n        self.left = None\n        self.right = None\n        self.data = data\n        \nfirstNode = Node(2)\nsecondNode = Node(3)\nthirdNode = Node(4)\nfourthNode = Node(5)\n\nfirstNode.left = secondNode\nfirstNode.right = thirdNode\nsecondNode.left = fourthNode",
      "metadata": {
        "trusted": true
      },
      "outputs": [],
      "execution_count": 1
    },
    {
      "cell_type": "markdown",
      "source": "Once the tree is created, we can apply DFS traversal methods (Pre-order, In-order, or Post-order) to visit the nodes in the desired order.",
      "metadata": {}
    },
    {
      "cell_type": "code",
      "source": "# Pre-order DFS: Root, Left, Right\ndef preorder(node):\n    if node is None:\n        return\n    print(node.data, end=\" \")  # Visit root node\n    preorder(node.left)        # Traverse left subtree\n    preorder(node.right)       # Traverse right subtree\n\n# Call preorder traversal starting from the root (firstNode)\npreorder(firstNode)\n",
      "metadata": {
        "trusted": true
      },
      "outputs": [
        {
          "name": "stdout",
          "text": "2 3 5 4 ",
          "output_type": "stream"
        }
      ],
      "execution_count": 2
    },
    {
      "cell_type": "code",
      "source": "# In-order DFS: Left, Root, Right\ndef inorder(node):\n    if node is None:\n        return\n    inorder(node.left)         # Traverse left subtree\n    print(node.data, end=\" \")   # Visit root node\n    inorder(node.right)        # Traverse right subtree\n\n# Call inorder traversal starting from the root (firstNode)\ninorder(firstNode)\n",
      "metadata": {
        "trusted": true
      },
      "outputs": [
        {
          "name": "stdout",
          "text": "5 3 2 4 ",
          "output_type": "stream"
        }
      ],
      "execution_count": 4
    },
    {
      "cell_type": "code",
      "source": "# Post-order DFS: Left, Right, Root\ndef postorder(node):\n    if node is None:\n        return\n    postorder(node.left)        # Traverse left subtree\n    postorder(node.right)       # Traverse right subtree\n    print(node.data, end=\" \")    # Visit root node\n\n# Call postorder traversal starting from the root (firstNode)\npostorder(firstNode)\n",
      "metadata": {
        "trusted": true
      },
      "outputs": [
        {
          "name": "stdout",
          "text": "5 3 4 2 ",
          "output_type": "stream"
        }
      ],
      "execution_count": 5
    },
    {
      "cell_type": "markdown",
      "source": "Here we use the recursive way\n- When we use a recursive approach, we define a function that calls itself for the left and right subtrees child nodes, essentially \"going deeper\" into the tree.. This is how recursion works",
      "metadata": {}
    },
    {
      "cell_type": "markdown",
      "source": "Key Idea in Pre-order (Root → Left → Right): \n- Visit the current node.\n- Push the right child first onto the stack, then the left child.",
      "metadata": {}
    },
    {
      "cell_type": "code",
      "source": "def preorder_iterative(root) :\n    if root is None:  # If the tree is empty, there's nothing to traverse\n        return \n    stack = [root]  # Initialize the stack with the root node\n    while stack :  # Loop until the stack is empty\n        node = stack.pop()  # Pop the top node from the stack\n        print(node.data, end = \" \")  # Visit the current node\n        \n        # Push the right child first (so it will be processed after the left child)\n        if node.right :\n            stack.append(node.right)\n        # Push the left child second (so it will be processed next)\n        if node.left :\n            stack.append(node.left)\n\npreorder_iterative(firstNode)",
      "metadata": {
        "trusted": true
      },
      "outputs": [
        {
          "name": "stdout",
          "text": "2 3 5 4 ",
          "output_type": "stream"
        }
      ],
      "execution_count": 6
    },
    {
      "cell_type": "code",
      "source": "",
      "metadata": {
        "trusted": true
      },
      "outputs": [],
      "execution_count": null
    },
    {
      "cell_type": "code",
      "source": "class TreeNode :\n    def __init__(self, data) :\n        self.data = data \n        self.left =  None\n        self.right = None\n\nroot = TreeNode(10)\nroot.left = TreeNode(20)\nroot.right = TreeNode(30)\nroot.left.left = TreeNode(40)\nroot.left.right = TreeNode(50)\nroot.left.right.left = TreeNode(70)\nroot.right.right = TreeNode(60)",
      "metadata": {
        "trusted": true
      },
      "outputs": [],
      "execution_count": 30
    },
    {
      "cell_type": "code",
      "source": "def pre_orderStack(root):\n    if root is None :\n        return \n    stack = [root]\n    while stack :\n        node = stack.pop()\n        print(node.data, end = \" \")\n        if node.right :\n            stack.append(node.right)\n        if node.left :\n            stack.append(node.left)\n            \nprint(\"Pre-order Traversal:\")\npre_orderStack(root)",
      "metadata": {
        "trusted": true
      },
      "outputs": [
        {
          "name": "stdout",
          "text": "Pre-order Traversal:\n10 20 40 50 70 30 60 ",
          "output_type": "stream"
        }
      ],
      "execution_count": 31
    },
    {
      "cell_type": "code",
      "source": "class Children(TreeNode) :\n    def __init__(self, value) :\n        super().__init__(value)\n        self.value = value\n        \n    def pre_OrderRecurvise(self, node) :\n        if node is None:\n            return node\n        print(node.value) \n        self.pre_OrderRecurvise(node.left)\n        self.pre_OrderRecurvise(node.right)\n\n# Création de l'arbre avec la classe Children\nroot = Children(10)\nroot.left = Children(20)\nroot.right = Children(30)\nroot.left.left = Children(40)\nroot.left.right = Children(50)\nroot.right.right = Children(60)\nroot.left.right.left = Children(70)\n\nroot.pre_OrderRecurvise(root)         ",
      "metadata": {
        "trusted": true
      },
      "outputs": [
        {
          "name": "stdout",
          "text": "10\n20\n40\n50\n70\n30\n60\n",
          "output_type": "stream"
        }
      ],
      "execution_count": 43
    },
    {
      "cell_type": "markdown",
      "source": "L'héritage nous a permet d'utiliser les fonctionnalités de la classe TreeNode (comme le stockage des valeurs des nœuds et la gestion des enfants gauche et droit) sans avoir à réécrire ces parties du code. Tu n'as donc pas à gérer directement les propriétés left, right et value dans la classe Children, car elles sont héritées de la classe TreeNode.",
      "metadata": {}
    },
    {
      "cell_type": "code",
      "source": "class ColoredTreeNode(Children):\n    def __init__(self, value, color):\n        super().__init__(value)  # Utilise le constructeur de TreeNode pour initialiser value, left et right\n        self.color = color  # Ajoute un attribut supplémentaire\n\n    def print_node(self):\n        print(f\"Node value: {self.value}, Color: {self.color}\")\n\nniveau1 = ColoredTreeNode(10, 'Red')\nniveau1.print_node()",
      "metadata": {
        "trusted": true
      },
      "outputs": [
        {
          "name": "stdout",
          "text": "Node value: 10, Color: Red\n",
          "output_type": "stream"
        }
      ],
      "execution_count": 48
    },
    {
      "cell_type": "code",
      "source": "",
      "metadata": {
        "trusted": true
      },
      "outputs": [],
      "execution_count": null
    },
    {
      "cell_type": "code",
      "source": "",
      "metadata": {
        "trusted": true
      },
      "outputs": [],
      "execution_count": null
    },
    {
      "cell_type": "code",
      "source": "import random\n\nclass TreeNode:\n    def __init__(self, data):\n        self.data = data\n        self.left = None\n        self.right = None\n\ndef create_random_tree(depth, max_value):\n    # On commence avec la racine de l'arbre\n    root = TreeNode(random.randint(1, max_value))\n    nodes = [root]  # Liste des nœuds à traiter\n    \n    for _ in range(depth - 1):  # On parcourt les nœuds et on leur ajoute des enfants\n        current_node = nodes.pop(0)  # On prend le premier nœud de la liste\n        # Décider si on ajoute un enfant gauche\n        if random.choice([True, False]):\n            current_node.left = TreeNode(random.randint(1, max_value))\n            nodes.append(current_node.left)  # Ajouter le nouvel enfant à la liste\n        # Décider si on ajoute un enfant droit\n        if random.choice([True, False]):\n            current_node.right = TreeNode(random.randint(1, max_value))\n            nodes.append(current_node.right)  # Ajouter le nouvel enfant à la liste\n\n    return root\n\ndef pre_orderStack(root):\n    if root is None:\n        return\n    stack = [root]\n    while stack:\n        node = stack.pop()\n        print(node.data, end=\" \")\n        if node.right:\n            stack.append(node.right)\n        if node.left:\n            stack.append(node.left)\n\n# Créer un arbre binaire aléatoire de profondeur 4 et avec des valeurs entre 1 et 100\nroot = create_random_tree(4, 100)\n\nprint(\"Pre-order Traversal of the random tree:\")\npre_orderStack(root)\n",
      "metadata": {
        "trusted": true
      },
      "outputs": [
        {
          "name": "stdout",
          "text": "Pre-order Traversal of the random tree:\n6 73 56 44 38 37 ",
          "output_type": "stream"
        }
      ],
      "execution_count": 55
    },
    {
      "cell_type": "markdown",
      "source": "- La profondeur 4 de l'arbre signifie qu'il peut avoir jusqu'à 4 niveaux.\n- Le nombre total de nœuds sera inférieur ou égal à 2^4 - 1 = 15 nœuds dans le cas d'un arbre complet, mais il peut être moins si certains nœuds n'ont pas d'enfants.",
      "metadata": {}
    },
    {
      "cell_type": "code",
      "source": "",
      "metadata": {
        "trusted": true
      },
      "outputs": [],
      "execution_count": null
    }
  ]
}